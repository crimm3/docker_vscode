{
 "cells": [
  {
   "cell_type": "markdown",
   "metadata": {},
   "source": [
    "# VSCODE, Docker, Gitの環境作成"
   ]
  },
  {
   "cell_type": "markdown",
   "metadata": {},
   "source": [
    "## 初期設定"
   ]
  },
  {
   "cell_type": "markdown",
   "metadata": {},
   "source": [
    "- Visual Studio Codeインストール\n",
    "- 拡張機能(Remote Development)のインストール"
   ]
  },
  {
   "cell_type": "markdown",
   "metadata": {},
   "source": [
    "## コンテナアクセス"
   ]
  },
  {
   "cell_type": "markdown",
   "metadata": {},
   "source": [
    "- 左下緑色の「Add container configuration file」的なやつを選択\n",
    "- そのあと表示される言語を選択すると、いい感じのテンプレが作成される"
   ]
  },
  {
   "cell_type": "markdown",
   "metadata": {},
   "source": [
    "- 左下緑色の「＞＜」を選ぶ\n",
    "- コンテナをビルド＆起動"
   ]
  },
  {
   "cell_type": "markdown",
   "metadata": {},
   "source": [
    "- requirements.txtを使う設定\n",
    "- 拡張機能の設定"
   ]
  },
  {
   "cell_type": "markdown",
   "metadata": {},
   "source": [
    "## Github"
   ]
  },
  {
   "cell_type": "markdown",
   "metadata": {},
   "source": [
    "- ssh接続の設定\n",
    "- ホスト側VSCode上でDockerコンテナに入ったままgithubにアクセスしたいときに実施"
   ]
  },
  {
   "cell_type": "markdown",
   "metadata": {},
   "source": [
    "### やること"
   ]
  },
  {
   "cell_type": "markdown",
   "metadata": {},
   "source": [
    "- githubアカウントの登録＆vscode連携\n",
    "- .gitconfigを作成\n",
    "- sshのキーペアを作成\n",
    "- ssh-agentに登録\n",
    "- githubに公開鍵を登録\n",
    "- ssh configファイルの作成"
   ]
  },
  {
   "cell_type": "markdown",
   "metadata": {},
   "source": [
    "### .gitconfigの例"
   ]
  },
  {
   "cell_type": "markdown",
   "metadata": {},
   "source": [
    "[user]\n",
    "\n",
    "\tname = [github account name]\n",
    "\n",
    "\temail = [github e-mail address]\n",
    "\n",
    "[credential \"https://url_without_scheme\"]\n",
    "\n",
    "[core]\n",
    "\n",
    "\teditor = code --wait\n",
    "\n",
    "[merge]\n",
    "\n",
    "\ttool = code --wait \\\"&MERGED\\\""
   ]
  },
  {
   "cell_type": "markdown",
   "metadata": {},
   "source": [
    "### ssh configファイルの例"
   ]
  },
  {
   "cell_type": "markdown",
   "metadata": {},
   "source": [
    "Host github\n",
    "\n",
    "\tHostName github.com\n",
    "\n",
    "\tIdentityFile [path]\n",
    "\t\n",
    "\tUser git"
   ]
  },
  {
   "cell_type": "markdown",
   "metadata": {},
   "source": [
    "### その他ハマったこと"
   ]
  },
  {
   "cell_type": "markdown",
   "metadata": {},
   "source": [
    "- vscodeでmasterがないと怒られた（githubのデフォルト名はmasterではなくmain)"
   ]
  }
 ],
 "metadata": {
  "interpreter": {
   "hash": "4cd7ab41f5fca4b9b44701077e38c5ffd31fe66a6cab21e0214b68d958d0e462"
  },
  "kernelspec": {
   "display_name": "Python 3.8.11 64-bit",
   "name": "python3"
  },
  "language_info": {
   "name": "python",
   "version": ""
  },
  "orig_nbformat": 4
 },
 "nbformat": 4,
 "nbformat_minor": 2
}